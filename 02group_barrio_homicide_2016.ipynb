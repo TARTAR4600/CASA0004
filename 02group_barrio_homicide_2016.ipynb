{
 "cells": [
  {
   "cell_type": "code",
   "execution_count": null,
   "id": "261a37db",
   "metadata": {},
   "outputs": [],
   "source": [
    "task_name=\"reclass 2016 homicide\" \n",
    "dataset= \"original_homicide\" \n",
    "code_version=\"group_barrio_homicide_2016\"\n",
    "input_dir=\"homicidios-en-bogota-2016.csv\" \n",
    "output_dir=\"2016homicide_barrio_upz_barriocount_final.csv\"\n",
    "duration=\"none\"\n",
    "note=\"第一次根据barrio名筛选聚合的数据，没做匹配\""
   ]
  },
  {
   "cell_type": "code",
   "execution_count": 2,
   "id": "63e0cd97",
   "metadata": {},
   "outputs": [],
   "source": [
    "import pandas as pd"
   ]
  },
  {
   "cell_type": "code",
   "execution_count": 3,
   "id": "9f784cc9",
   "metadata": {},
   "outputs": [
    {
     "name": "stdout",
     "output_type": "stream",
     "text": [
      "                        Barrio  Cantidad\n",
      "0             7 DE AGOSTO E-12       1.0\n",
      "1           ABRAHAM LINCON E-6       1.0\n",
      "2  ACACIAS III PARTE BAJA E-19       1.0\n",
      "3             ACACIAS SUR E-19       0.0\n",
      "4                ACAPULCO E-10       1.0\n"
     ]
    }
   ],
   "source": [
    "df = pd.read_csv(\"homicidios-en-bogota-2016.csv\", encoding=\"latin1\")\n",
    "\n",
    "# 按 Barrio 分组，统计 Cantidad 总和\n",
    "df_group = df.groupby(\"Barrio\", as_index=False)[\"Cantidad\"].sum()\n",
    "\n",
    "print(df_group.head())\n"
   ]
  },
  {
   "cell_type": "code",
   "execution_count": null,
   "id": "f62f8d98",
   "metadata": {},
   "outputs": [
    {
     "data": {
      "text/html": [
       "<div>\n",
       "<style scoped>\n",
       "    .dataframe tbody tr th:only-of-type {\n",
       "        vertical-align: middle;\n",
       "    }\n",
       "\n",
       "    .dataframe tbody tr th {\n",
       "        vertical-align: top;\n",
       "    }\n",
       "\n",
       "    .dataframe thead th {\n",
       "        text-align: right;\n",
       "    }\n",
       "</style>\n",
       "<table border=\"1\" class=\"dataframe\">\n",
       "  <thead>\n",
       "    <tr style=\"text-align: right;\">\n",
       "      <th></th>\n",
       "      <th>Barrio</th>\n",
       "      <th>Matched_Barrio</th>\n",
       "      <th>Score</th>\n",
       "      <th>recheck</th>\n",
       "      <th>codigo_upz</th>\n",
       "      <th>Cantidad</th>\n",
       "    </tr>\n",
       "  </thead>\n",
       "  <tbody>\n",
       "    <tr>\n",
       "      <th>0</th>\n",
       "      <td>7 DE AGOSTO E-12</td>\n",
       "      <td>siete de agosto</td>\n",
       "      <td>75</td>\n",
       "      <td>NaN</td>\n",
       "      <td>98</td>\n",
       "      <td>1.0</td>\n",
       "    </tr>\n",
       "    <tr>\n",
       "      <th>1</th>\n",
       "      <td>ABRAHAM LINCON E-6</td>\n",
       "      <td>abraham lincon</td>\n",
       "      <td>100</td>\n",
       "      <td>NaN</td>\n",
       "      <td>47</td>\n",
       "      <td>1.0</td>\n",
       "    </tr>\n",
       "    <tr>\n",
       "      <th>2</th>\n",
       "      <td>ACACIAS III PARTE BAJA E-19</td>\n",
       "      <td>acacias</td>\n",
       "      <td>100</td>\n",
       "      <td>NaN</td>\n",
       "      <td>27</td>\n",
       "      <td>1.0</td>\n",
       "    </tr>\n",
       "    <tr>\n",
       "      <th>3</th>\n",
       "      <td>ACACIAS SUR E-19</td>\n",
       "      <td>acacias</td>\n",
       "      <td>100</td>\n",
       "      <td>NaN</td>\n",
       "      <td>27</td>\n",
       "      <td>0.0</td>\n",
       "    </tr>\n",
       "    <tr>\n",
       "      <th>4</th>\n",
       "      <td>ACAPULCO E-10</td>\n",
       "      <td>acapulco</td>\n",
       "      <td>100</td>\n",
       "      <td>NaN</td>\n",
       "      <td>27</td>\n",
       "      <td>1.0</td>\n",
       "    </tr>\n",
       "    <tr>\n",
       "      <th>...</th>\n",
       "      <td>...</td>\n",
       "      <td>...</td>\n",
       "      <td>...</td>\n",
       "      <td>...</td>\n",
       "      <td>...</td>\n",
       "      <td>...</td>\n",
       "    </tr>\n",
       "    <tr>\n",
       "      <th>619</th>\n",
       "      <td>VISION DE COLOMBIA E-8</td>\n",
       "      <td>colombia</td>\n",
       "      <td>100</td>\n",
       "      <td>NaN</td>\n",
       "      <td>98</td>\n",
       "      <td>1.0</td>\n",
       "    </tr>\n",
       "    <tr>\n",
       "      <th>620</th>\n",
       "      <td>VISTA HERMOSA E-19</td>\n",
       "      <td>vista hermosa</td>\n",
       "      <td>100</td>\n",
       "      <td>NaN</td>\n",
       "      <td>24</td>\n",
       "      <td>5.0</td>\n",
       "    </tr>\n",
       "    <tr>\n",
       "      <th>621</th>\n",
       "      <td>VITELMA E-4</td>\n",
       "      <td>vitelma</td>\n",
       "      <td>100</td>\n",
       "      <td>NaN</td>\n",
       "      <td>32</td>\n",
       "      <td>4.0</td>\n",
       "    </tr>\n",
       "    <tr>\n",
       "      <th>622</th>\n",
       "      <td>VOTO NACIONAL E-14</td>\n",
       "      <td>voto nacional</td>\n",
       "      <td>100</td>\n",
       "      <td>NaN</td>\n",
       "      <td>102</td>\n",
       "      <td>6.0</td>\n",
       "    </tr>\n",
       "    <tr>\n",
       "      <th>623</th>\n",
       "      <td>ÁLVARO BERNAL SEGURA E-19</td>\n",
       "      <td>álvaro bernal segura</td>\n",
       "      <td>100</td>\n",
       "      <td>NaN</td>\n",
       "      <td>67</td>\n",
       "      <td>NaN</td>\n",
       "    </tr>\n",
       "  </tbody>\n",
       "</table>\n",
       "<p>624 rows × 6 columns</p>\n",
       "</div>"
      ],
      "text/plain": [
       "                          Barrio        Matched_Barrio  Score  recheck  \\\n",
       "0               7 DE AGOSTO E-12       siete de agosto     75      NaN   \n",
       "1             ABRAHAM LINCON E-6        abraham lincon    100      NaN   \n",
       "2    ACACIAS III PARTE BAJA E-19               acacias    100      NaN   \n",
       "3               ACACIAS SUR E-19               acacias    100      NaN   \n",
       "4                  ACAPULCO E-10              acapulco    100      NaN   \n",
       "..                           ...                   ...    ...      ...   \n",
       "619       VISION DE COLOMBIA E-8              colombia    100      NaN   \n",
       "620           VISTA HERMOSA E-19         vista hermosa    100      NaN   \n",
       "621                  VITELMA E-4               vitelma    100      NaN   \n",
       "622           VOTO NACIONAL E-14         voto nacional    100      NaN   \n",
       "623    ÁLVARO BERNAL SEGURA E-19  álvaro bernal segura    100      NaN   \n",
       "\n",
       "     codigo_upz  Cantidad  \n",
       "0            98       1.0  \n",
       "1            47       1.0  \n",
       "2            27       1.0  \n",
       "3            27       0.0  \n",
       "4            27       1.0  \n",
       "..          ...       ...  \n",
       "619          98       1.0  \n",
       "620          24       5.0  \n",
       "621          32       4.0  \n",
       "622         102       6.0  \n",
       "623          67       NaN  \n",
       "\n",
       "[624 rows x 6 columns]"
      ]
     },
     "execution_count": 4,
     "metadata": {},
     "output_type": "execute_result"
    }
   ],
   "source": [
    "df2016 = pd.read_csv(\"2016homicide_barrio_upz_barriocount.csv\")\n",
    "merged = df2016.merge(df_group, on=\"Barrio\", how=\"left\")\n",
    "merged"
   ]
  },
  {
   "cell_type": "code",
   "execution_count": null,
   "id": "f9101cbb",
   "metadata": {},
   "outputs": [],
   "source": [
    "merged.to_csv(r\"E:/Dissertation/CASA0004/2016homicide_barrio_upz_barriocount_final.csv\", index=False, encoding=\"utf-8-sig\")"
   ]
  },
  {
   "cell_type": "code",
   "execution_count": null,
   "id": "d6248f2e",
   "metadata": {},
   "outputs": [
    {
     "name": "stdout",
     "output_type": "stream",
     "text": [
      "✅ 日志写入完成\n"
     ]
    },
    {
     "name": "stderr",
     "output_type": "stream",
     "text": [
      "<>:4: SyntaxWarning: invalid escape sequence '\\D'\n",
      "<>:4: SyntaxWarning: invalid escape sequence '\\D'\n",
      "C:\\Users\\wengqc\\AppData\\Local\\Temp\\ipykernel_32072\\3582302453.py:4: SyntaxWarning: invalid escape sequence '\\D'\n",
      "  repo_dir = 'E:\\Dissertation\\CASA0004'\n"
     ]
    }
   ],
   "source": [
    "# ===== 记录日志 =====\n",
    "status=\"完成\" \n",
    "def append_log(task_name, dataset, code_version, input_dir, output_dir, status, duration, note):\n",
    "    repo_dir = 'E:\\Dissertation\\CASA0004'\n",
    "    log_path = f\"{repo_dir}/operation_log.md\"\n",
    "\n",
    "    # 写入日志\n",
    "    with open(log_path, \"a\", encoding=\"utf-8\") as f:\n",
    "        f.write(f\"**任务名称**: {task_name}\\n\")\n",
    "        f.write(f\"**数据集**: {dataset}\\n\")\n",
    "        f.write(f\"**代码版本**: {code_version}\\n\")\n",
    "        f.write(f\"**输入目录**: {input_dir}\\n\")\n",
    "        f.write(f\"**输出目录**: {output_dir}\\n\")\n",
    "        f.write(f\"**状态**: {status}\\n\")\n",
    "        f.write(f\"**耗时**: {duration}\\n\")\n",
    "        f.write(f\"**备注**: {note}\\n\\n\")\n",
    "\n",
    "    print(\"✅ 日志写入完成\")\n",
    "append_log(task_name, dataset, code_version, input_dir, output_dir, status, duration, note)"
   ]
  }
 ],
 "metadata": {
  "kernelspec": {
   "display_name": "Python 3",
   "language": "python",
   "name": "python3"
  },
  "language_info": {
   "codemirror_mode": {
    "name": "ipython",
    "version": 3
   },
   "file_extension": ".py",
   "mimetype": "text/x-python",
   "name": "python",
   "nbconvert_exporter": "python",
   "pygments_lexer": "ipython3",
   "version": "3.12.0"
  }
 },
 "nbformat": 4,
 "nbformat_minor": 5
}
