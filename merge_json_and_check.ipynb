{
 "cells": [
  {
   "cell_type": "code",
   "execution_count": 1,
   "id": "7c66e38d",
   "metadata": {},
   "outputs": [
    {
     "name": "stdout",
     "output_type": "stream",
     "text": [
      "任务: 合并json\n",
      "输入文件: E:\\Dissertation\\XGBoost_cleaning\\label_studio_config_central_new.json\n",
      "输出目录: E:\\Dissertation\\XGBoost_cleaning\n"
     ]
    }
   ],
   "source": [
    "# ========= Cell 1: 填写任务信息 =========\n",
    "from datetime import datetime\n",
    "import ipynbname\n",
    "import os\n",
    "\n",
    "task_name = \"合并json\"\n",
    "notebook_name = \"XGBoost.ipynb\"  # 不带扩展名\n",
    "notebook_path = r\"CASA0004\\XGBoost.ipynb\"  # 完整路径\n",
    "dataset = r\"E:\\Dissertation\\CASA0004\\central_barrio_features.csv\"\n",
    "code_version = \"v1.0_X, (1 part of xgboost)\"\n",
    "input_dir = r\"E:\\Dissertation\\XGBoost_cleaning\\label_studio_config_central_new.json\"   # 输入 CSV\n",
    "input_json = r\"E:\\Dissertation\\XGBoost_cleaning\\label_studio_config_central.json\"\n",
    "output_dir = r\"E:\\Dissertation\\XGBoost_cleaning\"       # 输出文件夹\n",
    "note = \"把csv里面的na全都填上0，然后训练xgboost预测谋杀率\"\n",
    "\n",
    "# 保证输出目录存在\n",
    "os.makedirs(output_dir, exist_ok=True)\n",
    "\n",
    "print(f\"任务: {task_name}\")\n",
    "print(f\"输入文件: {input_dir}\")\n",
    "print(f\"输出目录: {output_dir}\")\n"
   ]
  },
  {
   "cell_type": "code",
   "execution_count": 2,
   "id": "e6f6baa8",
   "metadata": {},
   "outputs": [],
   "source": [
    "import json\n",
    "\n",
    "with open(input_dir, \"r\", encoding=\"utf-8\") as f:\n",
    "    data1 = json.load(f)\n",
    "\n",
    "with open(input_json, \"r\", encoding=\"utf-8\") as f:\n",
    "    data2 = json.load(f)\n",
    "\n",
    "# 两个列表拼接\n",
    "merged = data1 + data2\n",
    "\n",
    "with open(\"label_studio_config_central_merged.json\", \"w\", encoding=\"utf-8\") as f:\n",
    "    json.dump(merged, f, ensure_ascii=False, indent=2)\n"
   ]
  },
  {
   "cell_type": "code",
   "execution_count": 4,
   "id": "b283caa0",
   "metadata": {},
   "outputs": [
    {
     "name": "stderr",
     "output_type": "stream",
     "text": [
      "<>:5: SyntaxWarning: invalid escape sequence '\\D'\n",
      "<>:5: SyntaxWarning: invalid escape sequence '\\D'\n",
      "C:\\Users\\wengqc\\AppData\\Local\\Temp\\ipykernel_30644\\1442716419.py:5: SyntaxWarning: invalid escape sequence '\\D'\n",
      "  input_json = \"E:\\Dissertation\\CASA0004\\label_studio_config_central_merged.json\"\n"
     ]
    },
    {
     "name": "stdout",
     "output_type": "stream",
     "text": [
      "理论总采样点数: 34600\n",
      "缺失点总数: 11974\n",
      "缺失区间总数: 1673\n",
      "\n",
      "缺失最多的前 10 个区间:\n",
      "point_1 ~ point_6383  (缺失 6383 个)\n",
      "point_12032 ~ point_12068  (缺失 37 个)\n",
      "point_20585 ~ point_20618  (缺失 34 个)\n",
      "point_12555 ~ point_12585  (缺失 31 个)\n",
      "point_20443 ~ point_20471  (缺失 29 个)\n",
      "point_12133 ~ point_12158  (缺失 26 个)\n",
      "point_16269 ~ point_16294  (缺失 26 个)\n",
      "point_10183 ~ point_10207  (缺失 25 个)\n",
      "point_20153 ~ point_20177  (缺失 25 个)\n",
      "point_20377 ~ point_20400  (缺失 24 个)\n"
     ]
    }
   ],
   "source": [
    "import json\n",
    "from collections import defaultdict\n",
    "\n",
    "# 输入 JSON 文件路径\n",
    "input_json = \"E:\\Dissertation\\CASA0004\\label_studio_config_central_merged.json\"\n",
    "\n",
    "# 总采样点数\n",
    "total_points = 34600  \n",
    "\n",
    "# 加载 JSON\n",
    "with open(input_json, \"r\", encoding=\"utf-8\") as f:\n",
    "    data = json.load(f)\n",
    "\n",
    "# 统计每个 point 的图片数量\n",
    "point_counts = defaultdict(int)\n",
    "for item in data:\n",
    "    pid = item[\"data\"].get(\"sampling_point_id\", \"UNKNOWN\")\n",
    "    point_counts[pid] += 1\n",
    "\n",
    "# 已出现的点（转为 int，方便排序和区间分析）\n",
    "present_points = set(int(pid.split(\"_\")[1]) for pid in point_counts.keys() if pid.startswith(\"point_\"))\n",
    "\n",
    "# 所有应有点 ID\n",
    "all_points = set(range(1, total_points + 1))\n",
    "\n",
    "# 缺失点（完全没有出现的点）\n",
    "missing_points = sorted(all_points - present_points)\n",
    "\n",
    "# 计算缺失区间\n",
    "missing_intervals = []\n",
    "if missing_points:\n",
    "    start = missing_points[0]\n",
    "    prev = missing_points[0]\n",
    "    for p in missing_points[1:]:\n",
    "        if p == prev + 1:\n",
    "            prev = p\n",
    "        else:\n",
    "            missing_intervals.append((start, prev, prev - start + 1))  # (起点, 终点, 缺失数量)\n",
    "            start = p\n",
    "            prev = p\n",
    "    missing_intervals.append((start, prev, prev - start + 1))  # 收尾\n",
    "\n",
    "# 找出缺失最多的前 10 个区间\n",
    "missing_intervals_sorted = sorted(missing_intervals, key=lambda x: x[2], reverse=True)[:10]\n",
    "\n",
    "print(f\"理论总采样点数: {total_points}\")\n",
    "print(f\"缺失点总数: {len(missing_points)}\")\n",
    "print(f\"缺失区间总数: {len(missing_intervals)}\")\n",
    "print(\"\\n缺失最多的前 10 个区间:\")\n",
    "for start, end, length in missing_intervals_sorted:\n",
    "    print(f\"point_{start} ~ point_{end}  (缺失 {length} 个)\")\n"
   ]
  },
  {
   "cell_type": "code",
   "execution_count": null,
   "id": "b89225f0",
   "metadata": {},
   "outputs": [],
   "source": [
    "# ===== 记录日志 =====\n",
    "def append_log(task_name, dataset, code_version, input_dir, output_dir, status, duration, note):\n",
    "    repo_dir = 'E:\\Dissertation\\CASA0004'\n",
    "    log_path = f\"{repo_dir}/operation_log.md\"\n",
    "\n",
    "    # 写入日志\n",
    "    with open(log_path, \"a\", encoding=\"utf-8\") as f:\n",
    "        f.write(f\"**任务名称**: {task_name}\\n\")\n",
    "        f.write(f\"**数据集**: {dataset}\\n\")\n",
    "        f.write(f\"**代码版本**: {code_version}\\n\")\n",
    "        f.write(f\"**输入目录**: {input_dir}\\n\")\n",
    "        f.write(f\"**输出目录**: {output_dir}\\n\")\n",
    "        f.write(f\"**状态**: {status}\\n\")\n",
    "        f.write(f\"**耗时**: {duration}\\n\")\n",
    "        f.write(f\"**备注**: {note}\\n\\n\")\n",
    "\n",
    "    print(\"✅ 日志写入完成\")\n",
    "status=\"finished\"\n",
    "append_log(task_name, dataset, code_version, input_dir, output_dir, status, duration, note)"
   ]
  }
 ],
 "metadata": {
  "kernelspec": {
   "display_name": "Python 3",
   "language": "python",
   "name": "python3"
  },
  "language_info": {
   "codemirror_mode": {
    "name": "ipython",
    "version": 3
   },
   "file_extension": ".py",
   "mimetype": "text/x-python",
   "name": "python",
   "nbconvert_exporter": "python",
   "pygments_lexer": "ipython3",
   "version": "3.12.0"
  }
 },
 "nbformat": 4,
 "nbformat_minor": 5
}
