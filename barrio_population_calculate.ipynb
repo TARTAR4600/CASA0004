{
 "cells": [
  {
   "cell_type": "code",
   "execution_count": 5,
   "id": "130f5017",
   "metadata": {},
   "outputs": [],
   "source": [
    "# ========= Cell 1: 填写任务信息 =========\n",
    "from datetime import datetime\n",
    "import ipynbname\n",
    "task_name = \"calculate population on barrio\"\n",
    "notebook_name = \"barrio_population_calculate.ipynb\"  # 不带扩展名\n",
    "notebook_path = \"CASA0004\\barrio_population_calculate.ipynb\"  # 完整路径\n",
    "dataset = \"2016 Barrio & 2018 cencus on MANZANA\"\n",
    "code_version = \"v1.0_G, (first part of geo cleaning)\"\n",
    "input_dir = r\"E:\\Dissertation\\CASA0004\\Barrios_will_UPZ.geojson\" \n",
    "manzana_dir = r\"E:\\Dissertation\\XGBoost_cleaning\\MANZANA2018CENSO.geojson\"    # 输入文件夹\n",
    "output_dir = \"E:/Dissertation/XGBoost_cleaning/barrio_with_population\"   # 输出文件夹\n",
    "note = \"1.用barrio边界与manzana，按地理位置聚合，计算barrio的人口并且记录在\\\"population\\\"里面。2.如果街区完全包含了manzana，那就把全部的人口都算给它，如果没完全包含，就算[manzana总人口*(重叠面积/manzana的面积(这个数据记录在manzana的shape_area里面))]，四舍五入；3.完成后计算barrio的人口密度，为population/shape_area(这个是barrio数据集的shape_area)\""
   ]
  },
  {
   "cell_type": "code",
   "execution_count": 19,
   "id": "50dd7e95",
   "metadata": {},
   "outputs": [],
   "source": [
    "import geopandas as gpd\n",
    "import pandas as pd\n",
    "import os\n",
    "from shapely.geometry import Polygon"
   ]
  },
  {
   "cell_type": "code",
   "execution_count": 23,
   "id": "23c40bea",
   "metadata": {},
   "outputs": [
    {
     "name": "stderr",
     "output_type": "stream",
     "text": [
      "C:\\Users\\wengqc\\AppData\\Local\\Temp\\ipykernel_37008\\1619570860.py:24: UserWarning: Geometry is in a geographic CRS. Results from 'area' are likely incorrect. Use 'GeoSeries.to_crs()' to re-project geometries to a projected CRS before this operation.\n",
      "\n",
      "  intersections[\"area_intersect\"] = intersections.geometry.area\n"
     ]
    },
    {
     "name": "stdout",
     "output_type": "stream",
     "text": [
      "✅ 已完成：人口和人口密度计算\n",
      "输出文件：E:/Dissertation/XGBoost_cleaning/barrio_with_population\\barrio_with_population.geojson\n"
     ]
    }
   ],
   "source": [
    "# 输入文件\n",
    "barrio_file = input_dir   # 你的 barrio 边界数据\n",
    "manzana_file = manzana_dir  # manzana 数据（2018 人口普查）\n",
    "\n",
    "# 输出文件\n",
    "os.makedirs(output_dir, exist_ok=True)\n",
    "output_file = os.path.join(output_dir, \"barrio_with_population.geojson\")\n",
    "\n",
    "# 读取数据\n",
    "barrio = gpd.read_file(barrio_file)\n",
    "manzana = gpd.read_file(manzana_file)\n",
    "\n",
    "# 投影对齐（保证面积计算一致）\n",
    "if barrio.crs != manzana.crs:\n",
    "    manzana = manzana.to_crs(barrio.crs)\n",
    "\n",
    "# 默认人口字段\n",
    "pop_field = 'tp27_perso'\n",
    "\n",
    "# 叠加分析：计算每个 manzana 与 barrio 的相交部分\n",
    "intersections = gpd.overlay(manzana, barrio, how=\"intersection\")\n",
    "\n",
    "# 计算面积占比\n",
    "intersections[\"area_intersect\"] = intersections.geometry.area\n",
    "intersections[\"area_ratio\"] = intersections[\"area_intersect\"] / intersections[\"shape_area_2\"]\n",
    "intersections[\"tp27_perso\"] = pd.to_numeric(intersections[\"tp27_perso\"], errors=\"coerce\").fillna(0)\n",
    "# 计算分配人口（四舍五入）\n",
    "intersections[\"pop_allocated\"] = (intersections[pop_field] * intersections[\"area_ratio\"]).round()\n",
    "\n",
    "# 聚合到 barrio 层级：求和\n",
    "barrio_pop = intersections.groupby(\"barriocomu\")[\"pop_allocated\"].sum().reset_index()\n",
    "\n",
    "# 合并回原始 barrio\n",
    "barrio = barrio.merge(barrio_pop, on=\"barriocomu\", how=\"left\")\n",
    "\n",
    "# 空值（没分配到人口的街区）设为 0\n",
    "barrio[\"pop_allocated\"] = barrio[\"pop_allocated\"].fillna(0)\n",
    "\n",
    "# 计算人口密度\n",
    "barrio[\"pop_density\"] = barrio[\"pop_allocated\"] / barrio[\"shape_area\"]\n",
    "\n",
    "# 保存结果\n",
    "barrio.to_file(output_file, driver=\"GeoJSON\", encoding=\"utf-8\")\n",
    "\n",
    "print(\"✅ 已完成：人口和人口密度计算\")\n",
    "print(f\"输出文件：{output_file}\")\n"
   ]
  },
  {
   "cell_type": "code",
   "execution_count": 8,
   "id": "38af9967",
   "metadata": {},
   "outputs": [
    {
     "name": "stdout",
     "output_type": "stream",
     "text": [
      "Index(['cod_dane_a', 'dpto_ccdgo', 'mpio_ccdgo', 'mpio_cdpmp', 'clas_ccdgo',\n",
      "       'setr_ccdgo', 'setr_ccnct', 'secr_ccdgo', 'secr_ccnct', 'zu_ccdgo',\n",
      "       ...\n",
      "       'cod_loc', 'localidad', 'estado', 'barriocomu', 'cod_polbar',\n",
      "       'shape_area_2', 'shape_len', 'codigo_upz', 'geometry',\n",
      "       'area_intersect'],\n",
      "      dtype='object', length=119)\n"
     ]
    }
   ],
   "source": [
    "print(intersections.columns)"
   ]
  },
  {
   "cell_type": "code",
   "execution_count": 12,
   "id": "43e65b6a",
   "metadata": {},
   "outputs": [],
   "source": [
    "\n",
    "intersections.to_csv(\"check_data.csv\")"
   ]
  },
  {
   "cell_type": "code",
   "execution_count": 21,
   "id": "c80d6673",
   "metadata": {},
   "outputs": [
    {
     "name": "stdout",
     "output_type": "stream",
     "text": [
      "['cod_dane_a', 'dpto_ccdgo', 'mpio_ccdgo', 'mpio_cdpmp', 'clas_ccdgo', 'setr_ccdgo', 'setr_ccnct', 'secr_ccdgo', 'secr_ccnct', 'zu_ccdgo', 'zu_cdivi', 'setu_ccdgo', 'setu_ccnct', 'secu_ccdgo', 'secu_ccnct', 'manz_ccdgo', 'ag_ccdgo', 'dato_anm', 'version', 'area', 'latitud', 'longitud', 'densidad', 'ctnencuest', 'tp3_1_si', 'tp3_2_no', 'tp3a_ri', 'tp3b_tcn', 'tp4_1_si', 'tp4_2_no', 'tp9_1_uso', 'tp9_2_uso', 'tp9_3_uso', 'tp9_4_uso', 'tp9_2_1_mi', 'tp9_2_2_mi', 'tp9_2_3_mi', 'tp9_2_4_mi', 'tp9_2_9_mi', 'tp9_3_1_no', 'tp9_3_2_no', 'tp9_3_3_no', 'tp9_3_4_no', 'tp9_3_5_no', 'tp9_3_6_no', 'tp9_3_7_no', 'tp9_3_8_no', 'tp9_3_9_no', 'tp9_3_10_n', 'tp9_3_99_n', 'tvivienda', 'tp14_1_tip', 'tp14_2_tip', 'tp14_3_tip', 'tp14_4_tip', 'tp14_5_tip', 'tp14_6_tip', 'tp15_1_ocu', 'tp15_2_ocu', 'tp15_3_ocu', 'tp15_4_ocu', 'tp16_hog', 'tp19_ee_1', 'tp19_ee_2', 'tp19_ee_e1', 'tp19_ee_e2', 'tp19_ee_e3', 'tp19_ee_e4', 'tp19_ee_e5', 'tp19_ee_e6', 'tp19_ee_e9', 'tp19_acu_1', 'tp19_acu_2', 'tp19_alc_1', 'tp19_alc_2', 'tp19_gas_1', 'tp19_gas_2', 'tp19_gas_9', 'tp19_recb1', 'tp19_recb2', 'tp19_inte1', 'tp19_inte2', 'tp19_inte9', 'tp27_perso', 'personas_l', 'personas_s', 'tp32_1_sex', 'tp32_2_sex', 'tp34_1_eda', 'tp34_2_eda', 'tp34_3_eda', 'tp34_4_eda', 'tp34_5_eda', 'tp34_6_eda', 'tp34_7_eda', 'tp34_8_eda', 'tp34_9_eda', 'tp51primar', 'tp51secund', 'tp51superi', 'tp51postgr', 'tp51_13_ed', 'tp51_99_ed', 'cd_lc_cm', 'nmb_lc_cm', 'tp_lc_cm', 'shape_leng', 'shape_area_1', 'objectid', 'cod_loc', 'localidad', 'estado', 'barriocomu', 'cod_polbar', 'shape_area_2', 'shape_len', 'codigo_upz', 'geometry', 'area_intersect', 'area_ratio', 'pop_allocated']\n"
     ]
    }
   ],
   "source": [
    "print(list(intersections.columns))\n"
   ]
  },
  {
   "cell_type": "code",
   "execution_count": 10,
   "id": "2bc15759",
   "metadata": {},
   "outputs": [
    {
     "name": "stdout",
     "output_type": "stream",
     "text": [
      "✅ 日志写入完成\n"
     ]
    },
    {
     "name": "stderr",
     "output_type": "stream",
     "text": [
      "<>:5: SyntaxWarning: invalid escape sequence '\\D'\n",
      "<>:5: SyntaxWarning: invalid escape sequence '\\D'\n",
      "C:\\Users\\wengqc\\AppData\\Local\\Temp\\ipykernel_37696\\498562877.py:5: SyntaxWarning: invalid escape sequence '\\D'\n",
      "  repo_dir = 'E:\\Dissertation\\CASA0004'\n"
     ]
    }
   ],
   "source": [
    "# ===== 记录日志 =====\n",
    "status=\"完成\" \n",
    "duration = \"1m57s\"\n",
    "def append_log(task_name, dataset, code_version, input_dir, output_dir, status, duration, note):\n",
    "    repo_dir = 'E:\\Dissertation\\CASA0004'\n",
    "    log_path = f\"{repo_dir}/operation_log.md\"\n",
    "\n",
    "    # 写入日志\n",
    "    with open(log_path, \"a\", encoding=\"utf-8\") as f:\n",
    "        f.write(f\"**任务名称**: {task_name}\\n\")\n",
    "        f.write(f\"**数据集**: {dataset}\\n\")\n",
    "        f.write(f\"**代码版本**: {code_version}\\n\")\n",
    "        f.write(f\"**输入目录**: {input_dir}\\n\")\n",
    "        f.write(f\"**输出目录**: {output_dir}\\n\")\n",
    "        f.write(f\"**状态**: {status}\\n\")\n",
    "        f.write(f\"**耗时**: {duration}\\n\")\n",
    "        f.write(f\"**备注**: {note}\\n\\n\")\n",
    "\n",
    "    print(\"✅ 日志写入完成\")\n",
    "append_log(task_name, dataset, code_version, input_dir, output_dir, status, duration, note)"
   ]
  },
  {
   "cell_type": "code",
   "execution_count": null,
   "id": "7e1ca2d5",
   "metadata": {},
   "outputs": [
    {
     "name": "stdout",
     "output_type": "stream",
     "text": [
      "✅ 日志写入完成\n"
     ]
    },
    {
     "name": "stderr",
     "output_type": "stream",
     "text": [
      "<>:4: SyntaxWarning: invalid escape sequence '\\D'\n",
      "<>:4: SyntaxWarning: invalid escape sequence '\\D'\n",
      "C:\\Users\\wengqc\\AppData\\Local\\Temp\\ipykernel_37696\\1828181707.py:4: SyntaxWarning: invalid escape sequence '\\D'\n",
      "  repo_dir = 'E:\\Dissertation\\CASA0004'\n"
     ]
    }
   ],
   "source": [
    "# ===== 记录日志 =====\n",
    "current_time = datetime.now().strftime(\"%Y-%m-%d %H:%M:%S\")\n",
    "def append_log(task_name, dataset, code_version, input_dir, output_dir, status, duration, note):\n",
    "    repo_dir = 'E:\\Dissertation\\CASA0004'\n",
    "    log_path = f\"{repo_dir}/operation_log.md\"\n",
    "\n",
    "    # 写入日志\n",
    "    with open(log_path, \"a\", encoding=\"utf-8\") as f:\n",
    "        f.write(f\"**任务名称**: {task_name}\\n\")\n",
    "        f.write(f\"**任务文件**: {notebook_name}\\n\")\n",
    "        f.write(f\"**文件路径**: {notebook_path}\\n\")\n",
    "        f.write(f\"**数据集**: {dataset}\\n\")\n",
    "        f.write(f\"**代码版本**: {code_version}\\n\")\n",
    "        f.write(f\"**输入目录**: {input_dir}\\n\")\n",
    "        f.write(f\"**输出目录**: {output_dir}\\n\")\n",
    "        f.write(f\"**状态**: {status}\\n\")\n",
    "        f.write(f\"**耗时**: {duration}\\n\")\n",
    "        f.write(f\"**备注**: {note}\\n\")\n",
    "        f.write(f\"**记录时间**: {current_time}\\n\\n\")\n",
    "        f.write(\"================分割线================\\n\\n\")\n",
    "\n",
    "    print(\"✅ 日志写入完成\")\n",
    "status=\"finished\"\n",
    "append_log(task_name, dataset, code_version, input_dir, output_dir, status, duration, note)"
   ]
  }
 ],
 "metadata": {
  "kernelspec": {
   "display_name": "Python 3",
   "language": "python",
   "name": "python3"
  },
  "language_info": {
   "codemirror_mode": {
    "name": "ipython",
    "version": 3
   },
   "file_extension": ".py",
   "mimetype": "text/x-python",
   "name": "python",
   "nbconvert_exporter": "python",
   "pygments_lexer": "ipython3",
   "version": "3.12.0"
  }
 },
 "nbformat": 4,
 "nbformat_minor": 5
}
