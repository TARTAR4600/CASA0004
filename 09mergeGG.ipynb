{
 "cells": [
  {
   "cell_type": "code",
   "execution_count": 16,
   "id": "77b8d76f",
   "metadata": {},
   "outputs": [
    {
     "name": "stderr",
     "output_type": "stream",
     "text": [
      "<>:7: SyntaxWarning: invalid escape sequence '\\D'\n",
      "<>:7: SyntaxWarning: invalid escape sequence '\\D'\n",
      "C:\\Users\\wengqc\\AppData\\Local\\Temp\\ipykernel_16280\\1335631360.py:7: SyntaxWarning: invalid escape sequence '\\D'\n",
      "  notebook_path = \"E:\\Dissertation\\CASA0004\\09mergeGG.ipynb\"  # 完整路径\n"
     ]
    }
   ],
   "source": [
    "# ========= Cell 1: 填写任务信息 =========\n",
    "from datetime import datetime\n",
    "import ipynbname\n",
    "\n",
    "task_name = \"聚合垃圾与涂鸦文件\"\n",
    "notebook_name = \"09mergeGG.ipynb\"  # 不带扩展名\n",
    "notebook_path = \"E:\\Dissertation\\CASA0004\\09mergeGG.ipynb\"  # 完整路径\n",
    "dataset = \"gg& map_name_geo& barrio_with_geo\"\n",
    "code_version = \"v1.0_GG, (first part of GG cleaning)\"\n",
    "\n",
    "# 输入根目录（包含200个子文件夹）\n",
    "input_dir = r\"E:\\Dissertation\\XGBoost_cleaning\\2016central_GG_match_barrio_output2\"\n",
    "output_dir = r\"E:\\Dissertation\\XGBoost_cleaning\\2016central_GG_match_barrio_output2\"  # 输出文件夹\n",
    "\n",
    "note = []"
   ]
  },
  {
   "cell_type": "code",
   "execution_count": 15,
   "id": "4e6de800",
   "metadata": {},
   "outputs": [
    {
     "name": "stdout",
     "output_type": "stream",
     "text": [
      "\n",
      "所有字段：\n",
      "['image_name', 'graffiti_count', 'garbage_count', 'graffiti_exist', 'garbage_exist', 'longitude', 'latitude', 'barrio', 'upz']\n",
      "\n",
      "数值型字段（候选聚合字段）：\n",
      "['graffiti_count', 'garbage_count', 'graffiti_exist', 'garbage_exist', 'longitude', 'latitude']\n",
      "\n",
      "最终会被聚合的字段（包括 graffiti_exist / garbage_exist）：\n",
      "['graffiti_count', 'garbage_count', 'graffiti_exist', 'garbage_exist']\n",
      "\n",
      "合并完成，结果保存在 E:\\Dissertation\\XGBoost_cleaning\\2016central_GG_match_barrio_output2\\GGCentraloutput.csv\n",
      "\n",
      "结果预览（前 5 行）：\n",
      "                     barrio  graffiti_count  garbage_count  graffiti_exist  \\\n",
      "0           11 de Noviembre              68              0              30   \n",
      "1             12 de Octubre             261              0             101   \n",
      "2  12 de Octubre - Alcabaza               0              0               0   \n",
      "3            Abraham Lincon             229              0              76   \n",
      "4            Acevedo Tejada             215              0              99   \n",
      "\n",
      "   garbage_exist  \n",
      "0              0  \n",
      "1              0  \n",
      "2              0  \n",
      "3              0  \n",
      "4              0  \n"
     ]
    }
   ],
   "source": [
    "import os\n",
    "import json\n",
    "import pandas as pd\n",
    "\n",
    "\n",
    "# ==== 收集所有 JSON 文件路径 ====\n",
    "json_files = []\n",
    "for root, dirs, files in os.walk(input_dir):\n",
    "    for f in files:\n",
    "        if f.endswith(\".json\"):\n",
    "            json_files.append(os.path.join(root, f))\n",
    "\n",
    "data = []\n",
    "for f in json_files:\n",
    "    with open(f, \"r\", encoding=\"utf-8\") as infile:\n",
    "        try:\n",
    "            js = json.load(infile)\n",
    "            data.append(js)\n",
    "        except Exception as e:\n",
    "            print(f\"Error reading {f}: {e}\")\n",
    "\n",
    "df = pd.DataFrame(data)\n",
    "\n",
    "# ==== 打印字段信息 ====\n",
    "print(\"\\n所有字段：\")\n",
    "print(df.columns.tolist())\n",
    "\n",
    "numeric_cols = df.select_dtypes(include=\"number\").columns.tolist()\n",
    "print(\"\\n数值型字段（候选聚合字段）：\")\n",
    "print(numeric_cols)\n",
    "\n",
    "# 根据需要排除的字段（不参与 sum 的数值）\n",
    "exclude_cols = [\"longitude\", \"latitude\", \"upz\"]  \n",
    "agg_cols = [c for c in numeric_cols if c not in exclude_cols]\n",
    "\n",
    "print(\"\\n最终会被聚合的字段（包括 graffiti_exist / garbage_exist）：\")\n",
    "print(agg_cols)\n",
    "\n",
    "# ==== 聚合 ====\n",
    "df[agg_cols] = df[agg_cols].fillna(0)  # 缺失值填 0\n",
    "agg_df = df.groupby(\"barrio\")[agg_cols].sum().reset_index()\n",
    "\n",
    "# ==== 导出 ====\n",
    "output_path = os.path.join(output_dir, \"GGCentraloutput.csv\")\n",
    "agg_df.to_csv(output_path, index=False, encoding=\"utf-8-sig\")\n",
    "\n",
    "print(f\"\\n合并完成，结果保存在 {output_path}\")\n",
    "\n",
    "# ==== 预览结果 ====\n",
    "print(\"\\n结果预览（前 5 行）：\")\n",
    "print(agg_df.head())\n"
   ]
  },
  {
   "cell_type": "code",
   "execution_count": 17,
   "id": "6f193985",
   "metadata": {},
   "outputs": [
    {
     "name": "stdout",
     "output_type": "stream",
     "text": [
      "✅ 日志写入完成\n"
     ]
    },
    {
     "name": "stderr",
     "output_type": "stream",
     "text": [
      "<>:2: SyntaxWarning: invalid escape sequence '\\D'\n",
      "<>:2: SyntaxWarning: invalid escape sequence '\\D'\n",
      "C:\\Users\\wengqc\\AppData\\Local\\Temp\\ipykernel_16280\\454483529.py:2: SyntaxWarning: invalid escape sequence '\\D'\n",
      "  repo_dir = 'E:\\Dissertation\\CASA0004'\n"
     ]
    }
   ],
   "source": [
    "def append_log(task_name, notebook_name, notebook_path, input_dir, output_dir, status, duration, note):\n",
    "    repo_dir = 'E:\\Dissertation\\CASA0004'\n",
    "    log_path = f\"{repo_dir}/operation_log.md\"\n",
    "\n",
    "    # 写入日志\n",
    "    with open(log_path, \"a\", encoding=\"utf-8\") as f:\n",
    "        f.write(f\"**任务名称**: {task_name}\\n\")\n",
    "        f.write(f\"**数据集**: {notebook_name}\\n\")\n",
    "        f.write(f\"**代码版本**: {notebook_path}\\n\")\n",
    "        f.write(f\"**输入目录**: {input_dir}\\n\")\n",
    "        f.write(f\"**输出目录**: {output_dir}\\n\")\n",
    "        f.write(f\"**状态**: {status}\\n\")\n",
    "        f.write(f\"**耗时**: {duration}\\n\")\n",
    "        f.write(f\"**备注**: {note}\\n\\n\")\n",
    "\n",
    "    print(\"✅ 日志写入完成\")\n",
    "status=\"finished,分别存在三个文件夹\"\n",
    "duration=\"nan\"\n",
    "append_log(task_name, dataset, code_version, input_dir, output_dir, status, duration, note)"
   ]
  }
 ],
 "metadata": {
  "kernelspec": {
   "display_name": "Python 3",
   "language": "python",
   "name": "python3"
  },
  "language_info": {
   "codemirror_mode": {
    "name": "ipython",
    "version": 3
   },
   "file_extension": ".py",
   "mimetype": "text/x-python",
   "name": "python",
   "nbconvert_exporter": "python",
   "pygments_lexer": "ipython3",
   "version": "3.12.0"
  }
 },
 "nbformat": 4,
 "nbformat_minor": 5
}
