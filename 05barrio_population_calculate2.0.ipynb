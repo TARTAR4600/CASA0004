{
 "cells": [
  {
   "cell_type": "code",
   "execution_count": 2,
   "id": "130f5017",
   "metadata": {},
   "outputs": [],
   "source": [
    "# ========= Cell 1: 填写任务信息 =========\n",
    "from datetime import datetime\n",
    "import ipynbname\n",
    "task_name = \"calculate population on barrio\"\n",
    "notebook_name = \"barrio_population_calculate2.0.ipynb\"  # 不带扩展名\n",
    "notebook_path = \"CASA0004\\barrio_population_calculate2.0.ipynb\"  # 完整路径\n",
    "dataset = \"2016 Barrio & 2018 cencus on MANZANA\"\n",
    "code_version = \"v1.0_G, (first part of geo cleaning)\"\n",
    "input_dir = r\"E:\\Dissertation\\CASA0004\\Barrios_will_UPZ.geojson\" \n",
    "manzana_dir = r\"E:\\Dissertation\\XGBoost_cleaning\\MANZANA2018CENSO.geojson\"    # 输入文件夹\n",
    "output_dir = \"E:/Dissertation/XGBoost_cleaning/barrio_with_population2\"   # 输出文件夹\n",
    "note = \"1.用barrio边界与manzana，按地理位置聚合，计算barrio的人口并且记录在\\\"population\\\"里面。2.如果街区完全包含了manzana，那就把全部的人口都算给它，如果没完全包含，就算[manzana总人口*(重叠面积/manzana的面积(这个数据记录在manzana的shape_area里面))]，四舍五入；3.完成后计算barrio的人口密度，为population/shape_area(这个是barrio数据集的shape_area)\""
   ]
  },
  {
   "cell_type": "code",
   "execution_count": 4,
   "id": "23c40bea",
   "metadata": {},
   "outputs": [
    {
     "name": "stdout",
     "output_type": "stream",
     "text": [
      "✅ 完成，结果已保存： E:/Dissertation/XGBoost_cleaning/barrio_with_population2\\barrio_with_population.geojson\n"
     ]
    }
   ],
   "source": [
    "# ========= Cell 2: 人口计算 =========\n",
    "import geopandas as gpd\n",
    "import pandas as pd\n",
    "import os\n",
    "\n",
    "# ========== 基础准备 ==========\n",
    "target_crs = \"EPSG:3116\"  # 哥伦比亚本地投影，米制\n",
    "barrio = gpd.read_file(input_dir).to_crs(target_crs)\n",
    "manzana = gpd.read_file(manzana_dir).to_crs(target_crs)\n",
    "\n",
    "# 人口字段\n",
    "pop_field = \"tp27_perso\"\n",
    "manzana[pop_field] = pd.to_numeric(manzana[pop_field], errors=\"coerce\").fillna(0)\n",
    "\n",
    "# 实际面积（平方米）\n",
    "barrio[\"area_m2\"] = barrio.geometry.area\n",
    "manzana[\"area_m2\"] = manzana.geometry.area\n",
    "\n",
    "# ========== 叠加计算 ==========\n",
    "intersections = gpd.overlay(manzana, barrio, how=\"intersection\")\n",
    "intersections[\"area_intersect\"] = intersections.geometry.area\n",
    "\n",
    "# 分配人口逻辑\n",
    "def allocate_population(row):\n",
    "    manz_area = row[\"area_m2_1\"]   # manzana面积\n",
    "    barr_area = row[\"area_m2_2\"]   # barrio面积\n",
    "    inter_area = row[\"area_intersect\"]\n",
    "    pop = row[pop_field]\n",
    "\n",
    "    # 1. manzana 完全包含于某个 barrio 内\n",
    "    if abs(inter_area - manz_area) < 1:  \n",
    "        return pop\n",
    "\n",
    "    # 2. barrio 完全包含于某个 manzana 内\n",
    "    if abs(inter_area - barr_area) < 1:\n",
    "        return pop * (barr_area / manz_area)\n",
    "\n",
    "    # 3. 普通部分重叠，按比例分配\n",
    "    return pop * (inter_area / manz_area)\n",
    "\n",
    "# 注意 overlay 生成的列会自动加 _1, _2 后缀\n",
    "intersections[\"population\"] = intersections.apply(allocate_population, axis=1).round()\n",
    "\n",
    "# ========== 聚合到 barrio ==========\n",
    "barrio_pop = intersections.groupby(\"barriocomu\")[\"population\"].sum().reset_index()\n",
    "barrio = barrio.merge(barrio_pop, on=\"barriocomu\", how=\"left\").fillna({\"population\": 0})\n",
    "\n",
    "# 人口密度（人/平方公里）\n",
    "barrio[\"pop_density\"] = barrio[\"population\"] / (barrio[\"area_m2\"] / 1e6)\n",
    "\n",
    "# 输出目录\n",
    "os.makedirs(output_dir, exist_ok=True)\n",
    "output_file = os.path.join(output_dir, \"barrio_with_population.geojson\")\n",
    "\n",
    "# 保存\n",
    "barrio.to_file(output_file, driver=\"GeoJSON\", encoding=\"utf-8\")\n",
    "print(\"✅ 完成，结果已保存：\", output_file)\n"
   ]
  },
  {
   "cell_type": "code",
   "execution_count": null,
   "id": "7e1ca2d5",
   "metadata": {},
   "outputs": [
    {
     "name": "stdout",
     "output_type": "stream",
     "text": [
      "✅ 日志写入完成\n"
     ]
    },
    {
     "name": "stderr",
     "output_type": "stream",
     "text": [
      "<>:4: SyntaxWarning: invalid escape sequence '\\D'\n",
      "<>:4: SyntaxWarning: invalid escape sequence '\\D'\n",
      "C:\\Users\\wengqc\\AppData\\Local\\Temp\\ipykernel_37008\\2574545915.py:4: SyntaxWarning: invalid escape sequence '\\D'\n",
      "  repo_dir = 'E:\\Dissertation\\CASA0004'\n"
     ]
    }
   ],
   "source": [
    "# ===== 记录日志 =====\n",
    "current_time = datetime.now().strftime(\"%Y-%m-%d %H:%M:%S\")\n",
    "def append_log(task_name, dataset, code_version, input_dir, output_dir, status, duration, note):\n",
    "    repo_dir = 'E:\\Dissertation\\CASA0004'\n",
    "    log_path = f\"{repo_dir}/operation_log.md\"\n",
    "\n",
    "    # 写入日志\n",
    "    with open(log_path, \"a\", encoding=\"utf-8\") as f:\n",
    "        f.write(f\"**任务名称**: {task_name}\\n\")\n",
    "        f.write(f\"**任务文件**: {notebook_name}\\n\")\n",
    "        f.write(f\"**文件路径**: {notebook_path}\\n\")\n",
    "        f.write(f\"**数据集**: {dataset}\\n\")\n",
    "        f.write(f\"**代码版本**: {code_version}\\n\")\n",
    "        f.write(f\"**输入目录**: {input_dir}\\n\")\n",
    "        f.write(f\"**输出目录**: {output_dir}\\n\")\n",
    "        f.write(f\"**状态**: {status}\\n\")\n",
    "        f.write(f\"**耗时**: {duration}\\n\")\n",
    "        f.write(f\"**备注**: {note}\\n\")\n",
    "        f.write(f\"**记录时间**: {current_time}\\n\\n\")\n",
    "        f.write(\"================分割线================\\n\\n\")\n",
    "\n",
    "    print(\"✅ 日志写入完成\")\n",
    "status=\"完成，存在192万异常值，后面在QGIS对空值和0值异常值进行了筛选\"\n",
    "duration = \"50s\"\n",
    "append_log(task_name, dataset, code_version, input_dir, output_dir, status, duration, note)"
   ]
  }
 ],
 "metadata": {
  "kernelspec": {
   "display_name": "Python 3",
   "language": "python",
   "name": "python3"
  },
  "language_info": {
   "codemirror_mode": {
    "name": "ipython",
    "version": 3
   },
   "file_extension": ".py",
   "mimetype": "text/x-python",
   "name": "python",
   "nbconvert_exporter": "python",
   "pygments_lexer": "ipython3",
   "version": "3.12.0"
  }
 },
 "nbformat": 4,
 "nbformat_minor": 5
}
