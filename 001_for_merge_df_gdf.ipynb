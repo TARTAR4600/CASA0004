{
 "cells": [
  {
   "cell_type": "code",
   "execution_count": null,
   "id": "d99b6b04",
   "metadata": {},
   "outputs": [],
   "source": [
    "# ========= Cell 1: 填写任务信息 =========\n",
    "from datetime import datetime\n",
    "import ipynbname\n",
    "\n",
    "task_name = \"把已有数据聚合起来，做完整训练集\"\n",
    "notebook_name = \"08_organize_trainingdataframe.ipynb\"  # 不带扩展名\n",
    "notebook_path = \"CASA0004\\08_organize_trainingdataframe.ipynb\"  # 完整路径\n",
    "dataset = \"gg& map_name_geo& barrio_with_geo\"\n",
    "code_version = \"v1.0_GG, (first part of GG cleaning)\"\n",
    "\n",
    "full_geo_json = r\"E:\\Dissertation\\CASA0004\\barrio_pop_density_street_estra_clenaed_reproject.geojson\"  # 输入文件夹\n",
    "csv_2016north = r\"E:\\Dissertation\\XGBoost_cleaning\\2016north_Mask2Former_with_geobarriokilling_SelectedSegClass_Transtocsv\"    \n",
    "csv_2016central = r\"E:\\Dissertation\\XGBoost_cleaning\\2016central_Mask2Former_with_geobarriokilling_SelectedSegClass_Transtocsv\"\n",
    "csv_2016south = r\"E:\\Dissertation\\XGBoost_cleaning\\2016south_Mask2Former_with_geobarriokilling_SelectedSegClass_Transtocsv\" \n",
    "\n",
    "note = []"
   ]
  },
  {
   "cell_type": "code",
   "execution_count": 7,
   "id": "990857c2",
   "metadata": {},
   "outputs": [],
   "source": [
    "import geopandas as gpd\n",
    "import pandas as pd\n",
    "import glob\n",
    "import os"
   ]
  },
  {
   "cell_type": "code",
   "execution_count": null,
   "id": "c3e79172",
   "metadata": {},
   "outputs": [
    {
     "name": "stdout",
     "output_type": "stream",
     "text": [
      "  objectid cod_loc      localidad         estado             barriocomu  \\\n",
      "0      717       4  San Cristóbal     LEGALIZADO          Urb. Serafina   \n",
      "1      851       1        Usaquén     LEGALIZADO    San Cristóbal Norte   \n",
      "2      526      11           None  SIN LEGALIZAR         La Estrella II   \n",
      "3      559      11           None  SIN LEGALIZAR        Alameda de Suba   \n",
      "4      569       4  San Cristóbal     LEGALIZADO  San José Sur Oriental   \n",
      "\n",
      "  cod_polbar    shape_area  shape_len codigo_upz        area_m2  ...  \\\n",
      "0      40243  1.298690e-05   0.015256         34  159363.005924  ...   \n",
      "1      10188  4.563400e-06   0.010605         11   55983.937711  ...   \n",
      "2     110285  4.961100e-06   0.011582         71   60863.262968  ...   \n",
      "3     110004  5.488000e-07   0.003175         27    6732.780118  ...   \n",
      "4      40183  2.421000e-07   0.002457         50    2971.234538  ...   \n",
      "\n",
      "   street_ratio_None  street_len_AK  street_ratio_AK  street_len_TV  \\\n",
      "0                0.0       0.000000         0.000000            0.0   \n",
      "1                0.0     116.544427         0.071431            0.0   \n",
      "2                0.0       0.000000         0.000000            0.0   \n",
      "3                0.0       0.000000         0.000000            0.0   \n",
      "4                0.0       0.000000         0.000000            0.0   \n",
      "\n",
      "   street_ratio_TV  street_len_DG  street_ratio_DG  street_len_AC  \\\n",
      "0              0.0            0.0              0.0       0.000000   \n",
      "1              0.0            0.0              0.0     447.890526   \n",
      "2              0.0            0.0              0.0       0.000000   \n",
      "3              0.0            0.0              0.0       0.000000   \n",
      "4              0.0            0.0              0.0       0.000000   \n",
      "\n",
      "   street_ratio_AC                                           geometry  \n",
      "0         0.000000  MULTIPOLYGON (((997960.178 996835.178, 997944....  \n",
      "1         0.274517  MULTIPOLYGON (((1005989.727 1015561.156, 10059...  \n",
      "2         0.000000  MULTIPOLYGON (((996299.33 1015806.316, 996298....  \n",
      "3         0.000000  MULTIPOLYGON (((998646.914 1016537.031, 998640...  \n",
      "4         0.000000  MULTIPOLYGON (((998575.184 994636.875, 998606....  \n",
      "\n",
      "[5 rows x 35 columns]\n"
     ]
    }
   ],
   "source": [
    "gdf = gpd.read_file(full_geo_json)\n",
    "\n",
    "# 查看gdf前几行\n",
    "print(gdf.head())   # 默认显示前5行"
   ]
  },
  {
   "cell_type": "code",
   "execution_count": 6,
   "id": "c423930d",
   "metadata": {},
   "outputs": [
    {
     "name": "stdout",
     "output_type": "stream",
     "text": [
      "Index(['objectid', 'cod_loc', 'localidad', 'estado', 'barriocomu',\n",
      "       'cod_polbar', 'shape_area', 'shape_len', 'codigo_upz', 'area_m2',\n",
      "       'population', 'pop_density', 'estrato_0', 'estrato_1', 'estrato_2',\n",
      "       'estrato_3', 'estrato_4', 'estrato_5', 'estrato_6',\n",
      "       'street_total_length', 'street_len_CL', 'street_ratio_CL',\n",
      "       'street_len_KR', 'street_ratio_KR', 'street_len_None',\n",
      "       'street_ratio_None', 'street_len_AK', 'street_ratio_AK',\n",
      "       'street_len_TV', 'street_ratio_TV', 'street_len_DG', 'street_ratio_DG',\n",
      "       'street_len_AC', 'street_ratio_AC', 'geometry'],\n",
      "      dtype='object')\n"
     ]
    }
   ],
   "source": [
    "print(gdf.columns)"
   ]
  },
  {
   "cell_type": "code",
   "execution_count": 23,
   "id": "3bf2c870",
   "metadata": {},
   "outputs": [
    {
     "name": "stdout",
     "output_type": "stream",
     "text": [
      "✅ 合并完成，输出文件： E:\\Dissertation\\XGBoost_cleaning\\2016_all_barrio_features_unique.csv\n"
     ]
    },
    {
     "name": "stderr",
     "output_type": "stream",
     "text": [
      "<>:10: SyntaxWarning: invalid escape sequence '\\D'\n",
      "<>:10: SyntaxWarning: invalid escape sequence '\\D'\n",
      "C:\\Users\\wengqc\\AppData\\Local\\Temp\\ipykernel_24952\\733252890.py:10: SyntaxWarning: invalid escape sequence '\\D'\n",
      "  df_all.to_csv(\"E:\\Dissertation\\CASA0004\\2016_all_barrio_features.csv\", index=False, encoding=\"utf-8-sig\")\n"
     ]
    }
   ],
   "source": [
    "#=======连接csv（不去重街区）======\n",
    "# 定义路径\n",
    "csv_2016north   = pd.read_csv(r\"E:\\Dissertation\\XGBoost_cleaning\\2016north_Mask2Former_with_geobarriokilling_SelectedSegClass_Transtocsv\\barrio_features.csv\")\n",
    "csv_2016central = pd.read_csv(r\"E:\\Dissertation\\XGBoost_cleaning\\2016central_Mask2Former_with_geobarriokilling_SelectedSegClass_Transtocsv\\barrio_features.csv\")\n",
    "csv_2016south   = pd.read_csv(r\"E:\\Dissertation\\XGBoost_cleaning\\2016south_Mask2Former_with_geobarriokilling_SelectedSegClass_Transtocsv\\barrio_features.csv\")\n",
    "\n",
    "# 读取并拼接\n",
    "df_all = pd.concat([csv_2016north, csv_2016central, csv_2016south], ignore_index=True)\n",
    "\n",
    "df_all.to_csv(\"E:\\Dissertation\\CASA0004\\2016_all_barrio_features.csv\", index=False, encoding=\"utf-8-sig\")\n",
    "\n",
    "print(\"✅ 合并完成，输出文件：\", output_file)\n"
   ]
  },
  {
   "cell_type": "code",
   "execution_count": null,
   "id": "5981e1ea",
   "metadata": {},
   "outputs": [
    {
     "name": "stdout",
     "output_type": "stream",
     "text": [
      "✅ 合并完成并去重，输出文件： E:\\Dissertation\\XGBoost_cleaning\\2016_all_barrio_features_unique.csv\n",
      "原始行数: 1692，去重后: 1610\n"
     ]
    }
   ],
   "source": [
    "#=======连接csv（去重街区，2016_all_barrio_features_unique.csv）======\n",
    "import pandas as pd\n",
    "\n",
    "# 定义路径\n",
    "csv_2016north   = pd.read_csv(r\"E:\\Dissertation\\XGBoost_cleaning\\2016north_Mask2Former_with_geobarriokilling_SelectedSegClass_Transtocsv\\barrio_features.csv\")\n",
    "csv_2016central = pd.read_csv(r\"E:\\Dissertation\\XGBoost_cleaning\\2016central_Mask2Former_with_geobarriokilling_SelectedSegClass_Transtocsv\\barrio_features.csv\")\n",
    "csv_2016south   = pd.read_csv(r\"E:\\Dissertation\\XGBoost_cleaning\\2016south_Mask2Former_with_geobarriokilling_SelectedSegClass_Transtocsv\\barrio_features.csv\")\n",
    "\n",
    "# 给每个 df 添加来源标记（方便以后追溯）\n",
    "csv_2016north[\"source\"]   = \"2016north\"\n",
    "csv_2016central[\"source\"] = \"2016central\"\n",
    "csv_2016south[\"source\"]   = \"2016south\"\n",
    "\n",
    "# 合并\n",
    "df_all = pd.concat([csv_2016north, csv_2016central, csv_2016south], ignore_index=True)\n",
    "\n",
    "# 去重：只保留每个 barrio 的第一个\n",
    "df_all_unique = df_all.drop_duplicates(subset=[\"barrio\"], keep=\"first\")\n",
    "\n",
    "# 保存\n",
    "output_file = r\"E:\\Dissertation\\XGBoost_cleaning\\2016_all_barrio_features_unique.csv\"\n",
    "df_all_unique.to_csv(output_file, index=False, encoding=\"utf-8-sig\")\n",
    "\n",
    "print(\"✅ 合并完成并去重，输出文件：\", output_file)\n",
    "print(f\"原始行数: {len(df_all)}，去重后: {len(df_all_unique)}\")\n"
   ]
  },
  {
   "cell_type": "code",
   "execution_count": 24,
   "id": "0d826a75",
   "metadata": {},
   "outputs": [
    {
     "name": "stdout",
     "output_type": "stream",
     "text": [
      "  objectid cod_loc      localidad         estado             barriocomu  \\\n",
      "0      717       4  San Cristóbal     LEGALIZADO          Urb. Serafina   \n",
      "1      851       1        Usaquén     LEGALIZADO    San Cristóbal Norte   \n",
      "2      526      11           None  SIN LEGALIZAR         La Estrella II   \n",
      "3      559      11           None  SIN LEGALIZAR        Alameda de Suba   \n",
      "4      569       4  San Cristóbal     LEGALIZADO  San José Sur Oriental   \n",
      "\n",
      "  cod_polbar    shape_area  shape_len codigo_upz        area_m2  ...  \\\n",
      "0      40243  1.298690e-05   0.015256         34  159363.005924  ...   \n",
      "1      10188  4.563400e-06   0.010605         11   55983.937711  ...   \n",
      "2     110285  4.961100e-06   0.011582         71   60863.262968  ...   \n",
      "3     110004  5.488000e-07   0.003175         27    6732.780118  ...   \n",
      "4      40183  2.421000e-07   0.002457         50    2971.234538  ...   \n",
      "\n",
      "   vegetation_ratio  person_count  bicyclist_count  motorcyclist_count  \\\n",
      "0          0.047808      1.805825         0.009709            0.077670   \n",
      "1          0.064703      1.632184         0.022989            0.022989   \n",
      "2               NaN           NaN              NaN                 NaN   \n",
      "3               NaN           NaN              NaN                 NaN   \n",
      "4               NaN           NaN              NaN                 NaN   \n",
      "\n",
      "   other_rider_count  street_light_count  population_y  pop_density_y  \\\n",
      "0           0.000000            0.077670        3714.0   23305.283296   \n",
      "1           0.011494            0.103448        1023.0   18273.098353   \n",
      "2                NaN                 NaN           NaN            NaN   \n",
      "3                NaN                 NaN           NaN            NaN   \n",
      "4                NaN                 NaN           NaN            NaN   \n",
      "\n",
      "   murder_rate     source  \n",
      "0          0.0  2016south  \n",
      "1          NaN  2016north  \n",
      "2          NaN        NaN  \n",
      "3          NaN        NaN  \n",
      "4          NaN        NaN  \n",
      "\n",
      "[5 rows x 56 columns]\n",
      "(3558, 56)\n"
     ]
    }
   ],
   "source": [
    "merged = gdf.merge(\n",
    "    df_all_unique,\n",
    "    how=\"left\",            # 左连接，保留 gdf 所有行\n",
    "    left_on=\"barriocomu\",  # gdf 的键\n",
    "    right_on=\"barrio\"      # merge_SVI_2016 的键\n",
    ")\n",
    "\n",
    "print(merged.head())\n",
    "print(merged.shape)\n"
   ]
  },
  {
   "cell_type": "code",
   "execution_count": 26,
   "id": "26605202",
   "metadata": {},
   "outputs": [
    {
     "name": "stdout",
     "output_type": "stream",
     "text": [
      "       objectid cod_loc localidad         estado       barriocomu cod_polbar  \\\n",
      "count      3558    3558      2789           3531             3558       3558   \n",
      "unique     3558      19        18              6             3520       3548   \n",
      "top         717      11      Bosa  SIN LEGALIZAR  S.C. Quiba Bajo     190196   \n",
      "freq          1     767       379           1807                3          3   \n",
      "mean        NaN     NaN       NaN            NaN              NaN        NaN   \n",
      "std         NaN     NaN       NaN            NaN              NaN        NaN   \n",
      "min         NaN     NaN       NaN            NaN              NaN        NaN   \n",
      "25%         NaN     NaN       NaN            NaN              NaN        NaN   \n",
      "50%         NaN     NaN       NaN            NaN              NaN        NaN   \n",
      "75%         NaN     NaN       NaN            NaN              NaN        NaN   \n",
      "max         NaN     NaN       NaN            NaN              NaN        NaN   \n",
      "\n",
      "          shape_area    shape_len codigo_upz       area_m2  ...  \\\n",
      "count   3.558000e+03  3558.000000       3533  3.558000e+03  ...   \n",
      "unique           NaN          NaN        112           NaN  ...   \n",
      "top              NaN          NaN         84           NaN  ...   \n",
      "freq             NaN          NaN        171           NaN  ...   \n",
      "mean    1.408896e-05     0.013063        NaN  1.728740e+05  ...   \n",
      "std     8.020239e-05     0.019110        NaN  9.841794e+05  ...   \n",
      "min     5.620000e-08     0.000952        NaN  6.893007e+02  ...   \n",
      "25%     1.059950e-06     0.004705        NaN  1.300566e+04  ...   \n",
      "50%     3.088250e-06     0.008490        NaN  3.789420e+04  ...   \n",
      "75%     9.595750e-06     0.015767        NaN  1.177322e+05  ...   \n",
      "max     1.866407e-03     0.401117        NaN  2.290655e+07  ...   \n",
      "\n",
      "        vegetation_ratio  person_count  bicyclist_count  motorcyclist_count  \\\n",
      "count        1537.000000   1537.000000      1537.000000         1537.000000   \n",
      "unique               NaN           NaN              NaN                 NaN   \n",
      "top                  NaN           NaN              NaN                 NaN   \n",
      "freq                 NaN           NaN              NaN                 NaN   \n",
      "mean            0.108227      1.063274         0.092739            0.087744   \n",
      "std             0.092519      0.923563         0.255533            0.145016   \n",
      "min             0.000000      0.000000         0.000000            0.000000   \n",
      "25%             0.036762      0.488263         0.000000            0.000000   \n",
      "50%             0.087872      0.833333         0.025641            0.040000   \n",
      "75%             0.158804      1.375000         0.083333            0.111111   \n",
      "max             0.563324     10.250000         5.000000            1.611111   \n",
      "\n",
      "        other_rider_count  street_light_count  population_y  pop_density_y  \\\n",
      "count         1537.000000         1537.000000   1537.000000    1537.000000   \n",
      "unique                NaN                 NaN           NaN            NaN   \n",
      "top                   NaN                 NaN           NaN            NaN   \n",
      "freq                  NaN                 NaN           NaN            NaN   \n",
      "mean             0.000821            0.220305   2838.437215   27655.320764   \n",
      "std              0.010542            0.360675   3469.195157   33101.518570   \n",
      "min              0.000000            0.000000      1.000000       3.085900   \n",
      "25%              0.000000            0.038961    561.000000   12444.825326   \n",
      "50%              0.000000            0.117117   1591.000000   23401.605753   \n",
      "75%              0.000000            0.229075   3837.000000   37128.551958   \n",
      "max              0.250000            4.375000  26850.000000  732668.901701   \n",
      "\n",
      "        murder_rate     source  \n",
      "count   1513.000000       1537  \n",
      "unique          NaN          3  \n",
      "top             NaN  2016north  \n",
      "freq            NaN        780  \n",
      "mean       0.000702        NaN  \n",
      "std        0.009022        NaN  \n",
      "min        0.000000        NaN  \n",
      "25%        0.000000        NaN  \n",
      "50%        0.000000        NaN  \n",
      "75%        0.000000        NaN  \n",
      "max        0.250000        NaN  \n",
      "\n",
      "[11 rows x 55 columns]\n"
     ]
    }
   ],
   "source": [
    "# 去掉几何列\n",
    "merged_no_geom = merged.drop(columns=[\"geometry\"])\n",
    "\n",
    "# 做统计描述\n",
    "desc = merged_no_geom.describe(include=\"all\")\n",
    "\n",
    "print(desc)\n"
   ]
  },
  {
   "cell_type": "code",
   "execution_count": 16,
   "id": "a0283b56",
   "metadata": {},
   "outputs": [],
   "source": [
    "merged_no_geom.to_csv(r\"E:\\Dissertation\\CASA0004\\mergeSVIandSOCI_no_geom.csv\" , index=False, encoding=\"utf-8-sig\")"
   ]
  },
  {
   "cell_type": "code",
   "execution_count": 37,
   "id": "162addad",
   "metadata": {},
   "outputs": [
    {
     "name": "stdout",
     "output_type": "stream",
     "text": [
      "               barrio  pop_density_y\n",
      "8              La Paz   10347.587324\n",
      "23             La Paz   10347.587324\n",
      "152          Veracruz   77114.918967\n",
      "299        Bellavista  462689.026737\n",
      "345         La Cabaña  169838.790283\n",
      "386         El Vergel   29625.586585\n",
      "437        El Paraíso   31096.631147\n",
      "459      La Esperanza   10166.330032\n",
      "657        El Paraíso   31096.631147\n",
      "942     Santa Helena_  260877.496134\n",
      "1186     La_Esperanza  277224.414671\n",
      "1213        La Aurora   83177.281396\n",
      "1215     Santa Mónica  172161.458919\n",
      "1296     La Esperanza   10166.330032\n",
      "1315     La Esmeralda   11069.761061\n",
      "1723     Santa Mónica  172161.458919\n",
      "1898        El Vergel   29625.586585\n",
      "1929        La Cabaña  169838.790283\n",
      "2006         San Luís   14263.044058\n",
      "2242        Andalucía   68697.204572\n",
      "2254  Lucero Sur Bajo   38460.246126\n",
      "2402    La Esperanza_   14285.944176\n",
      "2422     El Triángulo   36656.188575\n",
      "2504    Santa Helena_  260877.496134\n",
      "2521         San Luís   14263.044058\n",
      "2588         Veracruz   77114.918967\n",
      "2767     El Triángulo   36656.188575\n",
      "3048        La Aurora   83177.281396\n",
      "3070  Lucero Sur Bajo   38460.246126\n",
      "3169    La Esperanza_   14285.944176\n",
      "3195     La_Esperanza  277224.414671\n",
      "3229       Bellavista  462689.026737\n",
      "3299     La Esmeralda   11069.761061\n",
      "3351      El Progreso   19205.522263\n",
      "3405        Andalucía   68697.204572\n",
      "3476      El Progreso   19205.522263\n"
     ]
    },
    {
     "data": {
      "text/plain": [
       "(36, 55)"
      ]
     },
     "execution_count": 37,
     "metadata": {},
     "output_type": "execute_result"
    }
   ],
   "source": [
    "# 找出重复的 barrio\n",
    "duplicates = merged_no_geom[\"barrio\"].value_counts()\n",
    "duplicates = duplicates[duplicates > 1]\n",
    "\n",
    "# 筛选出所有重复的详细行\n",
    "dupes_detail = merged_no_geom[merged_no_geom[\"barrio\"].isin(duplicates.index)]\n",
    "\n",
    "print(dupes_detail[[\"barrio\", \"pop_density_y\"]].head(100))  # 只看前20行\n",
    "dupes_detail.shape\n"
   ]
  },
  {
   "cell_type": "code",
   "execution_count": 38,
   "id": "b24b219c",
   "metadata": {},
   "outputs": [
    {
     "name": "stdout",
     "output_type": "stream",
     "text": [
      "重复 barrio 数量： 18\n",
      "去重前行数: 3558\n",
      "去重后行数: 3540\n"
     ]
    }
   ],
   "source": [
    "# 找出重复的 barrio（出现次数 > 1）\n",
    "duplicates = merged_no_geom[\"barrio\"].value_counts()\n",
    "duplicates = duplicates[duplicates > 1]\n",
    "\n",
    "print(\"重复 barrio 数量：\", len(duplicates))\n",
    "\n",
    "# 保留非重复的所有行 + 重复的只保留一条\n",
    "non_dupes = merged_no_geom[~merged_no_geom[\"barrio\"].isin(duplicates.index)]\n",
    "deduped_dupes = merged_no_geom[merged_no_geom[\"barrio\"].isin(duplicates.index)] \\\n",
    "    .drop_duplicates(subset=[\"barrio\"], keep=\"first\")\n",
    "\n",
    "merged_no_geom_unique = pd.concat([non_dupes, deduped_dupes], ignore_index=True)\n",
    "\n",
    "print(\"去重前行数:\", len(merged_no_geom))\n",
    "print(\"去重后行数:\", len(merged_no_geom_unique))\n"
   ]
  },
  {
   "cell_type": "code",
   "execution_count": 39,
   "id": "986bfed1",
   "metadata": {},
   "outputs": [],
   "source": [
    "merged_no_geom_unique.to_csv(r\"E:\\Dissertation\\CASA0004\\merged_no_geom_unique.csv\", index=False, encoding=\"utf-8-sig\")"
   ]
  },
  {
   "cell_type": "code",
   "execution_count": 41,
   "id": "eda987ca",
   "metadata": {},
   "outputs": [
    {
     "data": {
      "text/plain": [
       "('E:\\\\Dissertation\\\\CASA0004\\\\merged_no_geom_unique_with_correct_homo.csv',\n",
       "    objectid  cod_loc       localidad         estado  \\\n",
       " 0       717        4   San Cristóbal     LEGALIZADO   \n",
       " 1       851        1         Usaquén     LEGALIZADO   \n",
       " 2       526       11             NaN  SIN LEGALIZAR   \n",
       " 3       559       11             NaN  SIN LEGALIZAR   \n",
       " 4       569        4   San Cristóbal     LEGALIZADO   \n",
       " 5       618        4   San Cristóbal     LEGALIZADO   \n",
       " 6       731        4   San Cristóbal     LEGALIZADO   \n",
       " 7      1397       19  Ciudad Bolívar     LEGALIZADO   \n",
       " 8      3043       16   Puente Aranda     LEGALIZADO   \n",
       " 9      3190        5            Usme     LEGALIZADO   \n",
       " \n",
       "                            barriocomu  cod_polbar    shape_area  shape_len  \\\n",
       " 0                       urb. serafina       40243  1.298690e-05   0.015256   \n",
       " 1                 san cristóbal norte       10188  4.563400e-06   0.010605   \n",
       " 2                      la estrella ii      110285  4.961100e-06   0.011582   \n",
       " 3                     alameda de suba      110004  5.488000e-07   0.003175   \n",
       " 4               san josé sur oriental       40183  2.421000e-07   0.002457   \n",
       " 5                      la gloria baja       40075  3.128700e-06   0.008060   \n",
       " 6  los libertadores sector san isidro       40108  1.010900e-06   0.004868   \n",
       " 7             mirador de la primavera      190134  1.900900e-06   0.005716   \n",
       " 8                          los ejidos      160040  4.557170e-05   0.028046   \n",
       " 9                         san juan ii       50240  3.097000e-07   0.003042   \n",
       " \n",
       "    codigo_upz        area_m2  ...  bicyclist_count  motorcyclist_count  \\\n",
       " 0        34.0  159363.005924  ...         0.009709            0.077670   \n",
       " 1        11.0   55983.937711  ...         0.022989            0.022989   \n",
       " 2        71.0   60863.262968  ...              NaN                 NaN   \n",
       " 3        27.0    6732.780118  ...              NaN                 NaN   \n",
       " 4        50.0    2971.234538  ...              NaN                 NaN   \n",
       " 5        50.0   38393.658492  ...         0.071429            0.000000   \n",
       " 6        51.0   12405.907996  ...         0.000000            0.000000   \n",
       " 7        69.0   23324.763858  ...              NaN                 NaN   \n",
       " 8       108.0  559174.329814  ...         0.088015            0.108614   \n",
       " 9        57.0    3800.921673  ...              NaN                 NaN   \n",
       " \n",
       "    other_rider_count  street_light_count  population_y  pop_density_y  \\\n",
       " 0           0.000000            0.077670        3714.0   23305.283296   \n",
       " 1           0.011494            0.103448        1023.0   18273.098353   \n",
       " 2                NaN                 NaN           NaN            NaN   \n",
       " 3                NaN                 NaN           NaN            NaN   \n",
       " 4                NaN                 NaN           NaN            NaN   \n",
       " 5           0.000000            0.571429        1206.0   31411.437392   \n",
       " 6           0.000000            0.125000         334.0   26922.656537   \n",
       " 7                NaN                 NaN           NaN            NaN   \n",
       " 8           0.001873            0.400749         597.0    1067.645577   \n",
       " 9                NaN                 NaN           NaN            NaN   \n",
       " \n",
       "    murder_rate       source  Matched_Barrio  Cantidad  \n",
       " 0     0.000000    2016south             NaN       NaN  \n",
       " 1          NaN    2016north             NaN       NaN  \n",
       " 2          NaN          NaN             NaN       NaN  \n",
       " 3          NaN          NaN             NaN       NaN  \n",
       " 4          NaN          NaN             NaN       NaN  \n",
       " 5     0.000000    2016south             NaN       NaN  \n",
       " 6     0.000000    2016south             NaN       NaN  \n",
       " 7          NaN          NaN             NaN       NaN  \n",
       " 8     0.001675  2016central      los ejidos       1.0  \n",
       " 9          NaN          NaN             NaN       NaN  \n",
       " \n",
       " [10 rows x 56 columns])"
      ]
     },
     "execution_count": 41,
     "metadata": {},
     "output_type": "execute_result"
    }
   ],
   "source": [
    "import pandas as pd \n",
    "\n",
    "# 文件路径\n",
    "homicide_path = r\"E:\\Dissertation\\CASA0004\\2016homicide_barrio_upz_barriocount_final.csv\"\n",
    "merged_path   = r\"E:\\Dissertation\\CASA0004\\merged_no_geom_unique.csv\"\n",
    "\n",
    "df_homicide = pd.read_csv(homicide_path)\n",
    "df_merged   = pd.read_csv(merged_path)\n",
    "\n",
    "# 小写化，去空格\n",
    "df_homicide[\"Matched_Barrio\"] = df_homicide[\"Matched_Barrio\"].astype(str).str.strip().str.lower()\n",
    "df_merged[\"barriocomu\"] = df_merged[\"barriocomu\"].astype(str).str.strip().str.lower()\n",
    "\n",
    "# homicide 表：同名 Matched_Barrio 分组求和（Cantidad 总数）\n",
    "df_homicide_grouped = (\n",
    "    df_homicide.dropna(subset=[\"Matched_Barrio\", \"Cantidad\"])\n",
    "    .groupby(\"Matched_Barrio\", as_index=False)[\"Cantidad\"]\n",
    "    .sum()\n",
    ")\n",
    "\n",
    "# 如果 merged 里已经有 Cantidad 列，先删掉\n",
    "if \"Cantidad\" in df_merged.columns:\n",
    "    df_merged = df_merged.drop(columns=[\"Cantidad\"])\n",
    "\n",
    "# 左连接：给 merged 加 homicide 的 Cantidad\n",
    "df_joined = pd.merge(\n",
    "    df_merged,\n",
    "    df_homicide_grouped,\n",
    "    how=\"left\",\n",
    "    left_on=\"barriocomu\",\n",
    "    right_on=\"Matched_Barrio\"\n",
    ")\n",
    "\n",
    "# 计算千人谋杀率（murder_rate = 每千人谋杀数）\n",
    "if \"population\" in df_joined.columns:\n",
    "    df_joined[\"murder_rate\"] = (\n",
    "        df_joined[\"Cantidad\"] / df_joined[\"population\"] * 1000\n",
    "    )\n",
    "\n",
    "# 导出\n",
    "output_file = r\"E:\\Dissertation\\CASA0004\\merged_no_geom_unique_with_correct_homo.csv\"\n",
    "df_joined.to_csv(output_file, index=False, encoding=\"utf-8-sig\")\n",
    "\n",
    "output_file, df_joined.head(10)\n"
   ]
  }
 ],
 "metadata": {
  "kernelspec": {
   "display_name": "Python 3",
   "language": "python",
   "name": "python3"
  },
  "language_info": {
   "codemirror_mode": {
    "name": "ipython",
    "version": 3
   },
   "file_extension": ".py",
   "mimetype": "text/x-python",
   "name": "python",
   "nbconvert_exporter": "python",
   "pygments_lexer": "ipython3",
   "version": "3.12.0"
  }
 },
 "nbformat": 4,
 "nbformat_minor": 5
}
