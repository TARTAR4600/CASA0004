{
 "cells": [
  {
   "cell_type": "code",
   "execution_count": 8,
   "id": "1c7eab71",
   "metadata": {},
   "outputs": [],
   "source": [
    "# ========= Cell 1: 填写任务信息 ========= # \n",
    "task_name = \"join kill count\" \n",
    "dataset = \"Bogota_points\" \n",
    "notebook_name = \"03JSON_match_homicide_count copy.ipynb\"\n",
    "notebook_path = \"CASA0004\\03JSON_match_homicide_count copy.ipynb\"\n",
    "code_version = \"v1.1(based on json_interselect.ipynb)\" \n",
    "input_dir = \"E:/Dissertation/XGBoost_cleaning/2016north_Mask2Former_with_geobarrio\" # 输入文件夹 \n",
    "output_dir = \"E:/Dissertation/XGBoost_cleaning/2016north_Mask2Former_with_geobarriokilling\" # 输出文件夹 \n",
    "note = \"南部区块-保持原有batch结构，增加了杀人数量字段(Cantidad)，用Matched_Barrio和json里面的barrio字段匹配，匹配前要把json里面的都变小写\" \n",
    "kill_file = r\"E:\\Dissertation\\CASA0004\\2016homicide_barrio_upz_barriocount_final.csv\""
   ]
  },
  {
   "cell_type": "code",
   "execution_count": 2,
   "id": "1cae52db",
   "metadata": {},
   "outputs": [
    {
     "name": "stdout",
     "output_type": "stream",
     "text": [
      "总数: 50764\n",
      "匹配上: 6944\n",
      "占比: 13.68%\n"
     ]
    }
   ],
   "source": [
    "import os\n",
    "import json\n",
    "import pandas as pd\n",
    "from tqdm import tqdm\n",
    "\n",
    "# === 读入杀人数据 ===\n",
    "kill_df = pd.read_csv(kill_file, encoding=\"utf-8-sig\")\n",
    "\n",
    "# 建立映射：Matched_Barrio → Cantidad\n",
    "kill_map = dict(zip(kill_df[\"Matched_Barrio\"].astype(str).str.lower(), kill_df[\"Cantidad\"]))\n",
    "\n",
    "# === 遍历输入文件夹（递归） ===\n",
    "os.makedirs(output_dir, exist_ok=True)\n",
    "\n",
    "matched_count = 0\n",
    "total_count = 0\n",
    "\n",
    "for root, _, files in os.walk(input_dir):\n",
    "    for fname in files:\n",
    "        if not fname.endswith(\".json\"):\n",
    "            continue\n",
    "\n",
    "        in_path = os.path.join(root, fname)\n",
    "        # 保持原有目录层级\n",
    "        rel_path = os.path.relpath(in_path, input_dir)\n",
    "        out_path = os.path.join(output_dir, rel_path)\n",
    "        os.makedirs(os.path.dirname(out_path), exist_ok=True)\n",
    "\n",
    "        with open(in_path, \"r\", encoding=\"utf-8\") as f:\n",
    "            data = json.load(f)\n",
    "\n",
    "        if \"barrio\" in data:\n",
    "            total_count += 1\n",
    "            barrio_norm = str(data[\"barrio\"]).lower().strip()\n",
    "            if barrio_norm in kill_map:\n",
    "                data[\"Cantidad\"] = float(kill_map[barrio_norm])\n",
    "                matched_count += 1\n",
    "            else:\n",
    "                data[\"Cantidad\"] = 0.0  # 没匹配到 → 填 0\n",
    "\n",
    "        with open(out_path, \"w\", encoding=\"utf-8\") as f:\n",
    "            json.dump(data, f, ensure_ascii=False, indent=2)\n",
    "\n",
    "# === 输出统计 ===\n",
    "print(f\"总数: {total_count}\")\n",
    "print(f\"匹配上: {matched_count}\")\n",
    "if total_count > 0:\n",
    "    print(f\"占比: {matched_count/total_count:.2%}\")\n",
    "else:\n",
    "    print(\"⚠️ 没有 JSON 文件被处理到，检查 input_dir 是否正确。\")\n"
   ]
  },
  {
   "cell_type": "code",
   "execution_count": 10,
   "id": "0aa56f1c",
   "metadata": {},
   "outputs": [
    {
     "name": "stdout",
     "output_type": "stream",
     "text": [
      "✅ 日志写入完成\n"
     ]
    },
    {
     "name": "stderr",
     "output_type": "stream",
     "text": [
      "<>:5: SyntaxWarning: invalid escape sequence '\\D'\n",
      "<>:5: SyntaxWarning: invalid escape sequence '\\D'\n",
      "C:\\Users\\wengqc\\AppData\\Local\\Temp\\ipykernel_18920\\3281925245.py:5: SyntaxWarning: invalid escape sequence '\\D'\n",
      "  repo_dir = 'E:\\Dissertation\\CASA0004'\n"
     ]
    }
   ],
   "source": [
    "# ===== 记录日志 =====\n",
    "from datetime import datetime\n",
    "current_time = datetime.now().strftime(\"%Y-%m-%d %H:%M:%S\")\n",
    "def append_log(task_name, dataset, code_version, input_dir, output_dir, status, duration, note):\n",
    "    repo_dir = 'E:\\Dissertation\\CASA0004'\n",
    "    log_path = f\"{repo_dir}/operation_log.md\"\n",
    "\n",
    "    # 写入日志\n",
    "    with open(log_path, \"a\", encoding=\"utf-8\") as f:\n",
    "        f.write(f\"**任务名称**: {task_name}\\n\")\n",
    "        f.write(f\"**任务文件**: {notebook_name}\\n\")\n",
    "        f.write(f\"**文件路径**: {notebook_path}\\n\")\n",
    "        f.write(f\"**数据集**: {dataset}\\n\")\n",
    "        f.write(f\"**代码版本**: {code_version}\\n\")\n",
    "        f.write(f\"**输入目录**: {input_dir}\\n\")\n",
    "        f.write(f\"**输出目录**: {output_dir}\\n\")\n",
    "        f.write(f\"**状态**: {status}\\n\")\n",
    "        f.write(f\"**耗时**: {duration}\\n\")\n",
    "        f.write(f\"**备注**: {note}\\n\")\n",
    "        f.write(f\"**记录时间**: {current_time}\\n\\n\")\n",
    "        f.write(\"================分割线================\\n\\n\")\n",
    "\n",
    "    print(\"✅ 日志写入完成\")\n",
    "status=\"完成，north匹配完成，投影正确\"\n",
    "duration = \"2min\"\n",
    "append_log(task_name, dataset, code_version, input_dir, output_dir, status, duration, note)"
   ]
  }
 ],
 "metadata": {
  "kernelspec": {
   "display_name": "Python 3",
   "language": "python",
   "name": "python3"
  },
  "language_info": {
   "codemirror_mode": {
    "name": "ipython",
    "version": 3
   },
   "file_extension": ".py",
   "mimetype": "text/x-python",
   "name": "python",
   "nbconvert_exporter": "python",
   "pygments_lexer": "ipython3",
   "version": "3.12.0"
  }
 },
 "nbformat": 4,
 "nbformat_minor": 5
}
