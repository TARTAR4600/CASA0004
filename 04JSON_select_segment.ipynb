{
 "cells": [
  {
   "cell_type": "code",
   "execution_count": 12,
   "id": "130f5017",
   "metadata": {},
   "outputs": [],
   "source": [
    "# ========= Cell 1: 填写任务信息 =========\n",
    "from datetime import datetime\n",
    "task_name = \"filter \"\n",
    "dataset = \"2016central_Mask2Former_with_geobarriokilling\"\n",
    "code_version = \"v1.3(third part of cleaning)\"\n",
    "input_dir = \"E:/Dissertation/XGBoost_cleaning/2016central_Mask2Former_with_geobarriokilling\"     # 输入文件夹\n",
    "output_dir = \"E:/Dissertation/XGBoost_cleaning/2016central_Mask2Former_with_geobarriokilling_SelectedSegClass\"   # 输出文件夹\n",
    "note = \"保持原有batch结构,只保留fence,wall,Road,Sidewalk,Building,Person,Bicyclist,Motorcyclist,Other Rider,Sky,Vegetation,Street Light相关字段\"\n",
    "config_file = r\"E:\\Dissertation\\CASA0004\\config_v1.2.json\""
   ]
  },
  {
   "cell_type": "code",
   "execution_count": 7,
   "id": "23c40bea",
   "metadata": {},
   "outputs": [],
   "source": [
    "for subdir in os.listdir(input_dir):\n",
    "    subdir_path = os.path.join(input_dir, subdir)\n",
    "    if not os.path.isdir(subdir_path):\n",
    "        continue  # 跳过不是文件夹的\n",
    "\n",
    "    # 遍历这个子文件夹里的 .json\n",
    "    for fname in os.listdir(subdir_path):\n",
    "        if not fname.endswith(\".json\"):\n",
    "            continue\n",
    "        if fname in processed_files:\n",
    "            continue  # 跳过已处理文件\n",
    "\n",
    "        in_path = os.path.join(subdir_path, fname)\n",
    "        out_subdir = os.path.join(output_dir, subdir)\n",
    "        os.makedirs(out_subdir, exist_ok=True)\n",
    "        out_path = os.path.join(out_subdir, fname)\n",
    "\n",
    "        with open(in_path, \"r\", encoding=\"utf-8\") as f:\n",
    "            data = json.load(f)\n",
    "\n",
    "        filtered_segments = [\n",
    "            seg for seg in data.get(\"segments\", [])\n",
    "            if seg.get(\"label_name\") in target_names\n",
    "        ]\n",
    "        data[\"segments\"] = filtered_segments\n",
    "\n",
    "        with open(out_path, \"w\", encoding=\"utf-8\") as f:\n",
    "            json.dump(data, f, ensure_ascii=False, indent=2)\n"
   ]
  },
  {
   "cell_type": "code",
   "execution_count": 10,
   "id": "2bc15759",
   "metadata": {},
   "outputs": [
    {
     "name": "stdout",
     "output_type": "stream",
     "text": [
      "✅ 日志写入完成\n"
     ]
    },
    {
     "name": "stderr",
     "output_type": "stream",
     "text": [
      "<>:5: SyntaxWarning: invalid escape sequence '\\D'\n",
      "<>:5: SyntaxWarning: invalid escape sequence '\\D'\n",
      "C:\\Users\\wengqc\\AppData\\Local\\Temp\\ipykernel_37696\\498562877.py:5: SyntaxWarning: invalid escape sequence '\\D'\n",
      "  repo_dir = 'E:\\Dissertation\\CASA0004'\n"
     ]
    }
   ],
   "source": [
    "# ===== 记录日志 =====\n",
    "status=\"完成\" \n",
    "duration = \"1m57s\"\n",
    "def append_log(task_name, dataset, code_version, input_dir, output_dir, status, duration, note):\n",
    "    repo_dir = 'E:\\Dissertation\\CASA0004'\n",
    "    log_path = f\"{repo_dir}/operation_log.md\"\n",
    "\n",
    "    # 写入日志\n",
    "    with open(log_path, \"a\", encoding=\"utf-8\") as f:\n",
    "        f.write(f\"**任务名称**: {task_name}\\n\")\n",
    "        f.write(f\"**数据集**: {dataset}\\n\")\n",
    "        f.write(f\"**代码版本**: {code_version}\\n\")\n",
    "        f.write(f\"**输入目录**: {input_dir}\\n\")\n",
    "        f.write(f\"**输出目录**: {output_dir}\\n\")\n",
    "        f.write(f\"**状态**: {status}\\n\")\n",
    "        f.write(f\"**耗时**: {duration}\\n\")\n",
    "        f.write(f\"**备注**: {note}\\n\\n\")\n",
    "\n",
    "    print(\"✅ 日志写入完成\")\n",
    "append_log(task_name, dataset, code_version, input_dir, output_dir, status, duration, note)"
   ]
  },
  {
   "cell_type": "code",
   "execution_count": 16,
   "id": "7e1ca2d5",
   "metadata": {},
   "outputs": [
    {
     "name": "stdout",
     "output_type": "stream",
     "text": [
      "✅ 日志写入完成\n"
     ]
    },
    {
     "name": "stderr",
     "output_type": "stream",
     "text": [
      "<>:4: SyntaxWarning: invalid escape sequence '\\D'\n",
      "<>:4: SyntaxWarning: invalid escape sequence '\\D'\n",
      "C:\\Users\\wengqc\\AppData\\Local\\Temp\\ipykernel_37696\\1828181707.py:4: SyntaxWarning: invalid escape sequence '\\D'\n",
      "  repo_dir = 'E:\\Dissertation\\CASA0004'\n"
     ]
    }
   ],
   "source": [
    "# ===== 记录日志 =====\n",
    "current_time = datetime.now().strftime(\"%Y-%m-%d %H:%M:%S\")\n",
    "def append_log(task_name, dataset, code_version, input_dir, output_dir, status, duration, note):\n",
    "    repo_dir = 'E:\\Dissertation\\CASA0004'\n",
    "    log_path = f\"{repo_dir}/operation_log.md\"\n",
    "\n",
    "    # 写入日志\n",
    "    with open(log_path, \"a\", encoding=\"utf-8\") as f:\n",
    "        f.write(f\"**任务名称**: {task_name}\\n\")\n",
    "        f.write(f\"**数据集**: {dataset}\\n\")\n",
    "        f.write(f\"**代码版本**: {code_version}\\n\")\n",
    "        f.write(f\"**输入目录**: {input_dir}\\n\")\n",
    "        f.write(f\"**输出目录**: {output_dir}\\n\")\n",
    "        f.write(f\"**状态**: {status}\\n\")\n",
    "        f.write(f\"**耗时**: {duration}\\n\")\n",
    "        f.write(f\"**备注**: {note}\\n\")\n",
    "        f.write(f\"**记录时间**: {current_time}\\n\\n\")\n",
    "        f.write(\"================分割线================\\n\\n\")\n",
    "\n",
    "    print(\"✅ 日志写入完成\")\n",
    "status=\"finished\"\n",
    "append_log(task_name, dataset, code_version, input_dir, output_dir, status, duration, note)"
   ]
  }
 ],
 "metadata": {
  "kernelspec": {
   "display_name": "Python 3",
   "language": "python",
   "name": "python3"
  },
  "language_info": {
   "codemirror_mode": {
    "name": "ipython",
    "version": 3
   },
   "file_extension": ".py",
   "mimetype": "text/x-python",
   "name": "python",
   "nbconvert_exporter": "python",
   "pygments_lexer": "ipython3",
   "version": "3.12.0"
  }
 },
 "nbformat": 4,
 "nbformat_minor": 5
}
